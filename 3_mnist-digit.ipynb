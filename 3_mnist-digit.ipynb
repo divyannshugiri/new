{
 "cells": [
  {
   "cell_type": "code",
   "execution_count": 63,
   "id": "3095252f-868e-43b9-93ce-59f534192e3e",
   "metadata": {},
   "outputs": [],
   "source": [
    "import tensorflow as tf\n",
    "from tensorflow.keras.models import Sequential\n",
    "from tensorflow.keras.layers import Dense, Flatten\n",
    "from tensorflow.keras.utils import to_categorical\n",
    "import matplotlib.pyplot as plt\n",
    "import pandas as pd\n",
    "import numpy as np\n",
    "import random"
   ]
  },
  {
   "cell_type": "code",
   "execution_count": 64,
   "id": "59752356-c1b5-4b76-84a5-dc2b2ca10e09",
   "metadata": {},
   "outputs": [],
   "source": [
    "# Load data from CSV file\n",
    "file_path = 'mnist_784_csv.csv'  # Make sure this path is correct\n",
    "df = pd.read_csv(file_path)"
   ]
  },
  {
   "cell_type": "code",
   "execution_count": 65,
   "id": "5252a2ce-7735-471d-a337-f2c2719b222a",
   "metadata": {},
   "outputs": [],
   "source": [
    "labels = df['class'].values  # Use 'class' as the label column name\n",
    "pixels = df.drop('class', axis=1).values "
   ]
  },
  {
   "cell_type": "code",
   "execution_count": 66,
   "id": "7cf6273a-8f68-43d0-9458-ad9338caf934",
   "metadata": {},
   "outputs": [],
   "source": [
    "pixels = pixels.reshape(-1, 28, 28)  # Reshape to (num_samples, 28, 28)\n",
    "pixels = pixels / 255.0 "
   ]
  },
  {
   "cell_type": "code",
   "execution_count": 67,
   "id": "dcb62b63-bcc1-4ef9-96f9-e9bde75573b9",
   "metadata": {},
   "outputs": [],
   "source": [
    "labels_encoded = to_categorical(labels, num_classes=10)"
   ]
  },
  {
   "cell_type": "code",
   "execution_count": 68,
   "id": "6fc45e28-5a6b-451c-bb31-879227092a70",
   "metadata": {},
   "outputs": [],
   "source": [
    "# Split data into training and testing sets\n",
    "split_idx = int(0.8 * len(pixels))\n",
    "x_train, x_test = pixels[:split_idx], pixels[split_idx:]\n",
    "y_train, y_test = labels_encoded[:split_idx], labels_encoded[split_idx:]\n"
   ]
  },
  {
   "cell_type": "code",
   "execution_count": 69,
   "id": "ebadb98d-aa31-45a1-ac23-40a53d5efacc",
   "metadata": {},
   "outputs": [],
   "source": [
    "from tensorflow.keras.layers import Input\n",
    "\n",
    "# Define the Feedforward Neural Network model\n",
    "model = Sequential([\n",
    "    Input(shape=(28, 28)),                   # Input layer with shape (28, 28)\n",
    "    Flatten(),                                # Flatten the 28x28 images into a 784-dimensional vector\n",
    "    Dense(128, activation='relu'),           # First hidden layer with 128 neurons and ReLU activation\n",
    "    Dense(64, activation='relu'),            # Second hidden layer with 64 neurons and ReLU activation\n",
    "    Dense(10, activation='softmax')          # Output layer with 10 neurons for 10 classes (0-9 digits)\n",
    "])\n"
   ]
  },
  {
   "cell_type": "code",
   "execution_count": 70,
   "id": "ec7523eb-98ee-4865-8ce2-19cf36e50738",
   "metadata": {},
   "outputs": [],
   "source": [
    "# Compile the model\n",
    "model.compile(optimizer='adam', \n",
    "              loss='categorical_crossentropy', \n",
    "              metrics=['accuracy'])"
   ]
  },
  {
   "cell_type": "code",
   "execution_count": null,
   "id": "8897fb90-4f06-4e5a-9a16-a6418ae07e0d",
   "metadata": {},
   "outputs": [
    {
     "name": "stdout",
     "output_type": "stream",
     "text": [
      "Epoch 1/10\n",
      "\u001b[1m 168/1750\u001b[0m \u001b[32m━\u001b[0m\u001b[37m━━━━━━━━━━━━━━━━━━━\u001b[0m \u001b[1m5s\u001b[0m 4ms/step - accuracy: 0.6271 - loss: 1.2299"
     ]
    }
   ],
   "source": [
    "# Train the model\n",
    "history = model.fit(x_train, y_train, \n",
    "                    epochs=10, \n",
    "                    validation_data=(x_test, y_test))"
   ]
  },
  {
   "cell_type": "code",
   "execution_count": null,
   "id": "d61be520-e5ce-4530-8fb8-5b556c6fb3cb",
   "metadata": {},
   "outputs": [],
   "source": [
    "# Evaluate the model\n",
    "test_loss, test_accuracy = model.evaluate(x_test, y_test)\n",
    "print(f\"Test accuracy: {test_accuracy:.4f}\")"
   ]
  },
  {
   "cell_type": "code",
   "execution_count": null,
   "id": "be863d72-f689-4839-80ea-928f8eb8c63a",
   "metadata": {},
   "outputs": [],
   "source": [
    "# Plot accuracy and loss curves\n",
    "plt.figure(figsize=(12, 4))\n",
    "plt.subplot(1, 2, 1)\n",
    "plt.plot(history.history['accuracy'], label='Train Accuracy')\n",
    "plt.plot(history.history['val_accuracy'], label='Validation Accuracy')\n",
    "plt.legend()\n",
    "plt.title('Model Accuracy')"
   ]
  },
  {
   "cell_type": "code",
   "execution_count": null,
   "id": "c2f71233-53d5-42df-94f4-2852f843ace8",
   "metadata": {},
   "outputs": [],
   "source": [
    "plt.subplot(1, 2, 2)\n",
    "plt.plot(history.history['loss'], label='Train Loss')\n",
    "plt.plot(history.history['val_loss'], label='Validation Loss')\n",
    "plt.legend()\n",
    "plt.title('Model Loss')\n",
    "plt.show()"
   ]
  },
  {
   "cell_type": "code",
   "execution_count": null,
   "id": "eb655aed-53d1-4393-a291-cb4c9f0bb359",
   "metadata": {},
   "outputs": [],
   "source": [
    "# Display a random image from the test set with actual and predicted labels\n",
    "n = random.randint(0, len(x_test) - 1)\n",
    "plt.imshow(x_test[n], cmap='gray')\n",
    "plt.title(\"Sample Test Image\")\n",
    "plt.axis('off')\n",
    "plt.show()"
   ]
  },
  {
   "cell_type": "code",
   "execution_count": null,
   "id": "4c0daf18-f5b2-4d22-8a91-245d0fca0b62",
   "metadata": {},
   "outputs": [],
   "source": [
    "# Predict the label for the selected image\n",
    "predicted_value = model.predict(x_test)\n",
    "print(\"Actual Number:\", np.argmax(y_test[n]))  # Actual label\n",
    "print(\"Predicted Number:\", np.argmax(predicted_value[n]))  "
   ]
  },
  {
   "cell_type": "code",
   "execution_count": null,
   "id": "8f49654a-6070-489d-a222-23246446b15e",
   "metadata": {},
   "outputs": [],
   "source": []
  }
 ],
 "metadata": {
  "kernelspec": {
   "display_name": "Python 3 (ipykernel)",
   "language": "python",
   "name": "python3"
  },
  "language_info": {
   "codemirror_mode": {
    "name": "ipython",
    "version": 3
   },
   "file_extension": ".py",
   "mimetype": "text/x-python",
   "name": "python",
   "nbconvert_exporter": "python",
   "pygments_lexer": "ipython3",
   "version": "3.12.4"
  }
 },
 "nbformat": 4,
 "nbformat_minor": 5
}
