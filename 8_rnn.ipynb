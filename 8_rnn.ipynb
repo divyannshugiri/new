{
 "cells": [
  {
   "cell_type": "code",
   "execution_count": 38,
   "id": "5fc49514-a9e0-4599-8071-880d534ea4fd",
   "metadata": {},
   "outputs": [],
   "source": [
    "##Using numpy\n",
    "\n",
    "import numpy as np"
   ]
  },
  {
   "cell_type": "code",
   "execution_count": 39,
   "id": "a4fb24e3-7ccf-438c-a303-70a64ac4a03b",
   "metadata": {},
   "outputs": [],
   "source": [
    "# Activation functions and derivatives\n",
    "def sigmoid(x):\n",
    "    return 1 / (1 + np.exp(-x))\n",
    "def sigmoid_derivative(x):\n",
    "    return x * (1 - x)"
   ]
  },
  {
   "cell_type": "code",
   "execution_count": 40,
   "id": "b5c1bb2d-035c-4511-9fa5-af1a5157f63f",
   "metadata": {},
   "outputs": [],
   "source": [
    "# Initialize weights\n",
    "Wxh = np.random.randn(10, 5)  # Input to hidden weights\n",
    "Whh = np.random.randn(10, 10) # Hidden to hidden weights\n",
    "Why = np.random.randn(1, 10)  # Hidden to output weights"
   ]
  },
  {
   "cell_type": "code",
   "execution_count": 41,
   "id": "7aa0b15f-17ae-46f4-a145-fa78fd0ebc22",
   "metadata": {},
   "outputs": [],
   "source": [
    "bh = np.zeros((10, 1))        # Hidden bias\n",
    "by = np.zeros((1, 1))         # Output bias"
   ]
  },
  {
   "cell_type": "code",
   "execution_count": 42,
   "id": "7cd3cee7-18cb-4379-849f-e7e5b717b70f",
   "metadata": {},
   "outputs": [],
   "source": [
    "# Initial hidden state\n",
    "h = np.zeros((10, 1))"
   ]
  },
  {
   "cell_type": "code",
   "execution_count": 43,
   "id": "cbdcaee2-1284-417e-99e7-b5f3c360fd3e",
   "metadata": {},
   "outputs": [],
   "source": [
    "# Forward pass\n",
    "def rnn_step(X, h):\n",
    "    h = sigmoid(np.dot(Wxh, X) + np.dot(Whh, h) + bh)  # Update hidden state\n",
    "    y = np.dot(Why, h) + by  # Compute output\n",
    "    return h, y"
   ]
  },
  {
   "cell_type": "code",
   "execution_count": 44,
   "id": "5c74b33d-6fd0-49a7-b76a-b7c080892ab1",
   "metadata": {},
   "outputs": [],
   "source": [
    "# Dummy input sequence\n",
    "X = [np.random.randn(5, 1) for _ in range(6)]  # 6 time steps of 5-dimensional input"
   ]
  },
  {
   "cell_type": "code",
   "execution_count": 45,
   "id": "c31a25b9-8d69-4dc7-af32-9cb2c5a03901",
   "metadata": {},
   "outputs": [
    {
     "name": "stdout",
     "output_type": "stream",
     "text": [
      "Time step 0, Output: [[-0.8189524]]\n",
      "Time step 1, Output: [[-1.15219715]]\n",
      "Time step 2, Output: [[-0.3320273]]\n",
      "Time step 3, Output: [[-0.98225249]]\n",
      "Time step 4, Output: [[-1.96962352]]\n",
      "Time step 5, Output: [[-2.29335372]]\n"
     ]
    }
   ],
   "source": [
    "# Process each time step\n",
    "for t in range(len(X)):\n",
    "    h, y = rnn_step(X[t], h)\n",
    "    print(f\"Time step {t}, Output: {y}\")"
   ]
  }
 ],
 "metadata": {
  "kernelspec": {
   "display_name": "Python 3 (ipykernel)",
   "language": "python",
   "name": "python3"
  },
  "language_info": {
   "codemirror_mode": {
    "name": "ipython",
    "version": 3
   },
   "file_extension": ".py",
   "mimetype": "text/x-python",
   "name": "python",
   "nbconvert_exporter": "python",
   "pygments_lexer": "ipython3",
   "version": "3.12.4"
  }
 },
 "nbformat": 4,
 "nbformat_minor": 5
}
